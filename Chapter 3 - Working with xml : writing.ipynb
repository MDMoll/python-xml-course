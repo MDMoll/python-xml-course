{
 "cells": [
  {
   "cell_type": "markdown",
   "metadata": {},
   "source": [
    "# Chapter 3: Working with xml : writing"
   ]
  },
  {
   "cell_type": "markdown",
   "metadata": {},
   "source": [
    "## 1. From xml to string and files\n",
    "\n",
    "`lxml` offers many way to interact with xml in Python, including getting xml objects to string. This would be quite convenient to retrieve for example part of an XML object. The system is quite simple, we will use the function `etree.tostring()`"
   ]
  },
  {
   "cell_type": "code",
   "execution_count": null,
   "metadata": {
    "collapsed": false
   },
   "outputs": [],
   "source": [
    "from lxml import etree\n",
    "\n",
    "with open(\"data/phi1294.phi002.perseus-lat2.xml\") as f:\n",
    "    xml = etree.parse(f)\n",
    "\n",
    "#Let's get the third div\n",
    "div = xml.xpath(\"//tei:div/tei:div\", namespaces = { \"tei\" : \"http://www.tei-c.org/ns/1.0\" })[2]\n",
    "\n",
    "#And now we export it to string\n",
    "print(etree.tostring(div))"
   ]
  },
  {
   "cell_type": "markdown",
   "metadata": {},
   "source": [
    "As you can see, the result is quite simple but it's not pretty. Most of all, the result is a byte, it's an object type in Python3. Hopefuly, etree.tostring takes some options :\n",
    "\n",
    "- `encoding` : accepts both string types (str) or typical encoding such as \"utf-8\" or \"iso-xxx\"\n",
    "- `xml_declaration` : if set to `True`, will add the famous `<?xml version='1.0' encoding='***'?>` at the beginning\n",
    "- `with_comments` : if set to False, will remove the comments\n",
    "\n",
    "See more details on the [official documentation](lxml.de/api/lxml.etree-module.html#tostring)"
   ]
  },
  {
   "cell_type": "code",
   "execution_count": null,
   "metadata": {
    "collapsed": false
   },
   "outputs": [],
   "source": [
    "# Let see how encoding works :\n",
    "print(etree.tostring(div, encoding=str))\n",
    "# And with utf-8 ? \n",
    "print(etree.tostring(div, encoding=\"utf-8\"))"
   ]
  },
  {
   "cell_type": "markdown",
   "metadata": {},
   "source": [
    "**Be careful** : as you see, this is still bytes. `str` in Python3 is actually unicode. So if you need to transform something to a string, you should put `encoding=str` as much as possible !"
   ]
  },
  {
   "cell_type": "markdown",
   "metadata": {},
   "source": [
    "**Files**\n",
    "\n",
    "There is two options for writing file. One is simply exporting to string and then writing the string you just made with `tostring`. The other other is using `etree.xmlfile`. To do that properly, you will need to use the `with` statement. You have seen `with` use before. `with FileFunction() as var:` allows you to secure a proper processing of your code with the file being open as the beginning and close at the end :"
   ]
  },
  {
   "cell_type": "code",
   "execution_count": null,
   "metadata": {
    "collapsed": false
   },
   "outputs": [],
   "source": [
    "\n",
    "with open(\"data/phi1294.phi002.perseus-lat2.xml\") as f:\n",
    "    xml = etree.parse(f)\n",
    "    print(f) # f exists\n",
    "print(f.read()) # Raise an exception because the file is closed."
   ]
  },
  {
   "cell_type": "markdown",
   "metadata": {},
   "source": [
    "`etree.xmlfile()` do the same thing : it opens after the with and close it at the end. Once you have retrieved the variable, the output of `etree.xmlfile()` supports different functions :\n",
    "\n",
    "- `write(xml)` allows you to write some xml to the document\n",
    "- `write_doctype(doctype)` add a doctype verbatim such as `write_doctype(\"<!DOCTYPE root SYSTEM \"some.dtd\">\")`\n",
    "- `write_declaration(standalone=None)` write a declaration and if True set it to standalone\n",
    "- `element(xml, attrib={}, nsmap={})` using `with` statement, allows for creating and opening a contextual node taking attributes and namespace map"
   ]
  },
  {
   "cell_type": "code",
   "execution_count": null,
   "metadata": {
    "collapsed": false
   },
   "outputs": [],
   "source": [
    "with etree.xmlfile(\"somefile.xml\", encoding='utf-8') as xf:\n",
    "    with xf.element(\"tei:TEI\", nsmap={\"tei\":\"{http://www.tei-c.org/ns/1.0}\"}): # No variable stored here\n",
    "        xf.write(div)\n",
    "    \n",
    "with open(\"somefile.xml\") as f:\n",
    "    print(f.read())"
   ]
  },
  {
   "cell_type": "markdown",
   "metadata": {},
   "source": [
    "** DIY **\n",
    "\n",
    "Using previous parsing system we have seen, can you clean up the mess of namespace create with `tei:` ?"
   ]
  },
  {
   "cell_type": "code",
   "execution_count": null,
   "metadata": {
    "collapsed": true
   },
   "outputs": [],
   "source": [
    "# Write your code here"
   ]
  },
  {
   "cell_type": "markdown",
   "metadata": {},
   "source": [
    "## 2\\.  Adding and removing elements"
   ]
  },
  {
   "cell_type": "markdown",
   "metadata": {},
   "source": [
    "##3\\. Changing attributes"
   ]
  },
  {
   "cell_type": "markdown",
   "metadata": {},
   "source": [
    "## Going further\n"
   ]
  },
  {
   "cell_type": "markdown",
   "metadata": {},
   "source": [
    "##Exercises\n",
    "\n",
    "### 1\\. XML to String\n",
    "\n",
    "Using the first Poem identified by 1.1 in Martial's Epigrammata, replace all line by paragraphs."
   ]
  },
  {
   "cell_type": "code",
   "execution_count": null,
   "metadata": {
    "collapsed": true
   },
   "outputs": [],
   "source": []
  },
  {
   "cell_type": "markdown",
   "metadata": {},
   "source": [
    "### 2\\. XML from XPath\n",
    "\n",
    "Create a function which given an xpath, creates and returns the whole tree.\n",
    "\n",
    "Expected outcome :\n",
    "\n",
    "    xml = fromXpath(\"/TEI/body/text/div\")\n",
    "    print(etree.tostring(xml))\n",
    "> `<TEI><body><text><div></div></text></body></TEI>`"
   ]
  },
  {
   "cell_type": "code",
   "execution_count": null,
   "metadata": {
    "collapsed": true
   },
   "outputs": [],
   "source": [
    "# Write your code here"
   ]
  },
  {
   "cell_type": "markdown",
   "metadata": {},
   "source": [
    "### 3\\. XML from XPath with attributes\n",
    "\n",
    "Taking a single node xpath as parameter, write a function which will create a node with its attributes.\n",
    "\n",
    "Expected outcome :\n",
    "\n",
    "    xml = fromXpath(\"div[@n='1' and @subtype='chapter']\")\n",
    "    print(etree.tostring(xml))\n",
    "> `<div n=\"1\" subtype=\"chapter\"/>`"
   ]
  },
  {
   "cell_type": "code",
   "execution_count": null,
   "metadata": {
    "collapsed": true
   },
   "outputs": [],
   "source": []
  },
  {
   "cell_type": "markdown",
   "metadata": {},
   "source": [
    "### 4\\. Full XML from complex XPath\n",
    "\n",
    "Using the outcome of the previous two exercises, write a function which can create a complex tree using xpath :\n",
    "\n",
    "    xml = fromXpath(\"/TEI/body/text/div[@type='edition' and @n='0']/div[@n='1' and @subtype='chapter']\")\n",
    "    print(etree.tostring(xml))\n",
    "> `<TEI><body><text><div n=\"0\" type=\"edition\"><div n=\"1\" subtype=\"chapter\" /></div></text></body></TEI>`"
   ]
  },
  {
   "cell_type": "markdown",
   "metadata": {},
   "source": [
    "-----"
   ]
  },
  {
   "cell_type": "code",
   "execution_count": null,
   "metadata": {
    "collapsed": true
   },
   "outputs": [],
   "source": []
  },
  {
   "cell_type": "code",
   "execution_count": null,
   "metadata": {
    "collapsed": false
   },
   "outputs": [],
   "source": [
    "# Do not care about this cell, it's just here to make the page nicer.\n",
    "\n",
    "from IPython.core.display import HTML\n",
    "def css_styling():\n",
    "    styles = open(\"styles/custom.css\", \"r\").read()\n",
    "    return HTML(styles)\n",
    "css_styling()"
   ]
  },
  {
   "cell_type": "markdown",
   "metadata": {},
   "source": [
    "---"
   ]
  },
  {
   "cell_type": "markdown",
   "metadata": {},
   "source": [
    "<p><small><a rel=\"license\" href=\"http://creativecommons.org/licenses/by-sa/4.0/\"><img alt=\"Creative Commons License\" style=\"border-width:0\" src=\"https://i.creativecommons.org/l/by-sa/4.0/88x31.png\" /></a><br /><span xmlns:dct=\"http://purl.org/dc/terms/\" property=\"dct:title\">Python Programming for the Humanities</span> by <a xmlns:cc=\"http://creativecommons.org/ns#\" href=\"http://fbkarsdorp.github.io/python-course\" property=\"cc:attributionName\" rel=\"cc:attributionURL\">http://fbkarsdorp.github.io/python-course</a> is licensed under a <a rel=\"license\" href=\"http://creativecommons.org/licenses/by-sa/4.0/\">Creative Commons Attribution-ShareAlike 4.0 International License</a>. Based on a work at <a xmlns:dct=\"http://purl.org/dc/terms/\" href=\"https://github.com/fbkarsdorp/python-course\" rel=\"dct:source\">https://github.com/fbkarsdorp/python-course</a>.</small></p>"
   ]
  }
 ],
 "metadata": {
  "kernelspec": {
   "display_name": "Python 3",
   "language": "python",
   "name": "python3"
  },
  "language_info": {
   "codemirror_mode": {
    "name": "ipython",
    "version": 3
   },
   "file_extension": ".py",
   "mimetype": "text/x-python",
   "name": "python",
   "nbconvert_exporter": "python",
   "pygments_lexer": "ipython3",
   "version": "3.4.3"
  }
 },
 "nbformat": 4,
 "nbformat_minor": 0
}
