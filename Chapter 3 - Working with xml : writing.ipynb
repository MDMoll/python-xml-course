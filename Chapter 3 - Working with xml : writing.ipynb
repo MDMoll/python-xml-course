{
 "cells": [
  {
   "cell_type": "markdown",
   "metadata": {},
   "source": [
    "# Chapter 3: Working with xml : writing"
   ]
  },
  {
   "cell_type": "code",
   "execution_count": null,
   "metadata": {
    "collapsed": true
   },
   "outputs": [],
   "source": [
    "# Run this before going further :\n",
    "from lxml import etree"
   ]
  },
  {
   "cell_type": "markdown",
   "metadata": {},
   "source": [
    "## 1. From xml to string and files\n",
    "\n",
    "`lxml` offers many way to interact with xml in Python, including getting xml objects to string. This would be quite convenient to retrieve for example part of an XML object. The system is quite simple, we will use the function `etree.tostring()`"
   ]
  },
  {
   "cell_type": "code",
   "execution_count": null,
   "metadata": {
    "collapsed": false
   },
   "outputs": [],
   "source": [
    "with open(\"data/phi1294.phi002.perseus-lat2.xml\") as f:\n",
    "    xml = etree.parse(f)\n",
    "\n",
    "#Let's get the third div\n",
    "div = xml.xpath(\"//tei:div/tei:div\", namespaces = { \"tei\" : \"http://www.tei-c.org/ns/1.0\" })[2]\n",
    "\n",
    "#And now we export it to string\n",
    "print(etree.tostring(div))"
   ]
  },
  {
   "cell_type": "markdown",
   "metadata": {},
   "source": [
    "As you can see, the result is quite simple but it's not pretty. Most of all, the result is a byte, it's an object type in Python3. Hopefuly, etree.tostring takes some options :\n",
    "\n",
    "- `encoding` : accepts both string types (str) or typical encoding such as \"utf-8\" or \"iso-xxx\"\n",
    "- `xml_declaration` : if set to `True`, will add the famous `<?xml version='1.0' encoding='***'?>` at the beginning\n",
    "- `with_comments` : if set to False, will remove the comments\n",
    "\n",
    "See more details on the [official documentation](lxml.de/api/lxml.etree-module.html#tostring)"
   ]
  },
  {
   "cell_type": "code",
   "execution_count": null,
   "metadata": {
    "collapsed": false
   },
   "outputs": [],
   "source": [
    "# Let see how encoding works :\n",
    "print(etree.tostring(div, encoding=str))\n",
    "# And with utf-8 ? \n",
    "print(etree.tostring(div, encoding=\"utf-8\"))"
   ]
  },
  {
   "cell_type": "markdown",
   "metadata": {},
   "source": [
    "**Be careful** : as you see, this is still bytes. `str` in Python3 is actually unicode. So if you need to transform something to a string, you should put `encoding=str` as much as possible !"
   ]
  },
  {
   "cell_type": "markdown",
   "metadata": {},
   "source": [
    "**Files**\n",
    "\n",
    "There is two options for writing file. One is simply exporting to string and then writing the string you just made with `tostring`. The other other is using `etree.xmlfile`. To do that properly, you will need to use the `with` statement. You have seen `with` use before. `with FileFunction() as var:` allows you to secure a proper processing of your code with the file being open as the beginning and close at the end :"
   ]
  },
  {
   "cell_type": "code",
   "execution_count": null,
   "metadata": {
    "collapsed": false
   },
   "outputs": [],
   "source": [
    "\n",
    "with open(\"data/phi1294.phi002.perseus-lat2.xml\") as f:\n",
    "    xml = etree.parse(f)\n",
    "    print(f) # f exists\n",
    "print(f.read()) # Raise an exception because the file is closed."
   ]
  },
  {
   "cell_type": "markdown",
   "metadata": {},
   "source": [
    "`etree.xmlfile()` do the same thing : it opens after the with and close it at the end. Once you have retrieved the variable, the output of `etree.xmlfile()` supports different functions :\n",
    "\n",
    "- `write(xml)` allows you to write some xml to the document\n",
    "- `write_doctype(doctype)` add a doctype verbatim such as `write_doctype(\"<!DOCTYPE root SYSTEM \"some.dtd\">\")`\n",
    "- `write_declaration(standalone=None)` write a declaration and if True set it to standalone\n",
    "- `element(xml, attrib={}, nsmap={})` using `with` statement, allows for creating and opening a contextual node taking attributes and namespace map"
   ]
  },
  {
   "cell_type": "code",
   "execution_count": null,
   "metadata": {
    "collapsed": false
   },
   "outputs": [],
   "source": [
    "with etree.xmlfile(\"somefile.xml\", encoding='utf-8') as xf:\n",
    "    xf.write(div)\n",
    "    \n",
    "with open(\"somefile.xml\") as f:\n",
    "    print(f.read())\n",
    "    \n",
    "with etree.xmlfile(\"somefile.xml\", encoding='utf-8') as xf:\n",
    "    with xf.element(\"tei:TEI\", nsmap={\"tei\":\"{http://www.tei-c.org/ns/1.0}\"}): # No variable stored here\n",
    "        xf.write(div) # Note that we still use \"xf\" as the main variable.\n",
    "    \n",
    "with open(\"somefile.xml\") as f:\n",
    "    print(f.read())"
   ]
  },
  {
   "cell_type": "markdown",
   "metadata": {},
   "source": [
    "** DIY **\n",
    "\n",
    "Using previous parsing system we have seen, can you clean up the mess of namespace create with `tei:` ?"
   ]
  },
  {
   "cell_type": "code",
   "execution_count": null,
   "metadata": {
    "collapsed": true
   },
   "outputs": [],
   "source": [
    "# Write your code here"
   ]
  },
  {
   "cell_type": "markdown",
   "metadata": {},
   "source": [
    "** What you have learned **\n",
    "\n",
    "- `etree.tostring()`\n",
    "- `etree.xmlfile()`\n",
    "- `with` statement"
   ]
  },
  {
   "cell_type": "markdown",
   "metadata": {},
   "source": [
    "## 2\\. Tree and Element\n"
   ]
  },
  {
   "cell_type": "markdown",
   "metadata": {},
   "source": [
    "On top of parsing and traversing xml, `lxml` provides a lot of functionalities for creating XML inside python. The use cases for it are numerous in the Humanities : correcting xml, generating XML from raw text after using regular expressions, creating xml in web applications, etc.\n",
    "\n",
    "Most humanities projects runs on XML, TEI being at the core of sustainable texts format. OpenEdition, Perseus, Perseids, etc. are all running on XML resources. Being able to master generation of XML is undoubtly a skill you will require all along your career.\n",
    "\n",
    "Let's start with the basics :\n",
    "\n",
    "**Element**\n",
    "\n",
    "`etree.Element()` takes a required argument, the name of your attribute : `etree.element(\"div\")` will result in `<div />`. That's great but quite limited. You can use Clark's notation to add it some namespace :"
   ]
  },
  {
   "cell_type": "code",
   "execution_count": null,
   "metadata": {
    "collapsed": false
   },
   "outputs": [],
   "source": [
    "e = etree.Element(\"{http://localhost}div\")\n",
    "print(etree.tostring(e, encoding=str))"
   ]
  },
  {
   "cell_type": "markdown",
   "metadata": {},
   "source": [
    "As you can see, lxml use by default ns{number} for prefixing xml. Default namespacing can be resolved using the function `etree.register_namespace(prefix, uri)`:"
   ]
  },
  {
   "cell_type": "code",
   "execution_count": null,
   "metadata": {
    "collapsed": false
   },
   "outputs": [],
   "source": [
    "etree.register_namespace(\"local\", \"http://localhost\")\n",
    "e = etree.Element(\"{http://localhost}div\")\n",
    "print(etree.tostring(e, encoding=str))"
   ]
  },
  {
   "cell_type": "markdown",
   "metadata": {},
   "source": [
    "You can also register namespace through the `nsmap` named argument of `lxml.Element` :"
   ]
  },
  {
   "cell_type": "code",
   "execution_count": null,
   "metadata": {
    "collapsed": false
   },
   "outputs": [],
   "source": [
    "e = etree.Element(\"{http://localhost}div\", nsmap={None:\"http://localhost\"})\n",
    "print(etree.tostring(e, encoding=str))"
   ]
  },
  {
   "cell_type": "markdown",
   "metadata": {},
   "source": [
    "While `etree.register_namespace` does not accept `None` as a value, the `nsmap` argument accepts both string and None value. Using None, you will ensure that no ns0 or any other useless prefix is used.\n",
    "\n",
    "Now that we can use namespaces, it would be good to be able to use a nice set of attributes. Attributes are easy to define through a `dict` and the parameter `attrib` of `etree.Element`"
   ]
  },
  {
   "cell_type": "code",
   "execution_count": null,
   "metadata": {
    "collapsed": false
   },
   "outputs": [],
   "source": [
    "e = etree.Element(\n",
    "    \"{http://localhost}div\",\n",
    "    attrib={\"n\" : \"1\", \"type\": \"textpart\", \"subtype\" : \"section\"},\n",
    "    nsmap={None:\"http://localhost\"}\n",
    ")\n",
    "print(etree.tostring(e, encoding=str))"
   ]
  },
  {
   "cell_type": "markdown",
   "metadata": {},
   "source": [
    "Great. We have now a quite complex tag. What if you need you add some xml:lang ?"
   ]
  },
  {
   "cell_type": "code",
   "execution_count": null,
   "metadata": {
    "collapsed": false
   },
   "outputs": [],
   "source": [
    "e = etree.Element(\n",
    "    \"{http://localhost}div\",\n",
    "    attrib={\"n\" : \"1\", \"type\": \"textpart\", \"subtype\" : \"section\", \"{http://www.w3.org/XML/1998/namespace}lang\" : \"fre\"},\n",
    "    nsmap={None:\"http://localhost\"}\n",
    ")\n",
    "print(etree.tostring(e, encoding=str))"
   ]
  },
  {
   "cell_type": "markdown",
   "metadata": {},
   "source": [
    "As you can see, you can use default namespace and Clark's notation without specifying the prefix for \"xml:\". It's also true for xhtml. Another thing : if you need some Dublin Core attributes, nothing goes against it :"
   ]
  },
  {
   "cell_type": "code",
   "execution_count": null,
   "metadata": {
    "collapsed": false
   },
   "outputs": [],
   "source": [
    "e = etree.Element(\n",
    "    \"{http://localhost}div\",\n",
    "    attrib={\n",
    "        \"n\" : \"1\",\n",
    "        \"type\": \"textpart\",\n",
    "        \"subtype\" : \"section\",\n",
    "        \"{http://www.w3.org/XML/1998/namespace}lang\" : \"fre\",\n",
    "        \"{http://purl.org/dc/elements/1.1/}title\" : \"Nice div\"\n",
    "    },\n",
    "    nsmap={None:\"http://localhost\", \"dc\" : \"http://purl.org/dc/elements/1.1/\"}\n",
    ")\n",
    "print(etree.tostring(e, encoding=str))"
   ]
  },
  {
   "cell_type": "markdown",
   "metadata": {},
   "source": [
    "That's about the most complex tag you can get. Except that for now we don't have text. Setting up text is quite easy, you just set the attribute `text` of your node  :"
   ]
  },
  {
   "cell_type": "code",
   "execution_count": null,
   "metadata": {
    "collapsed": false
   },
   "outputs": [],
   "source": [
    "e.text = \"Hello there\"\n",
    "print(etree.tostring(e, encoding=str))"
   ]
  },
  {
   "cell_type": "markdown",
   "metadata": {},
   "source": [
    "Now that we are able to create an element, we should create a Tree out of it, to have access to many other options. To do so, you will just need to use the function `etree.ElementTree` which take a simple argument : a node."
   ]
  },
  {
   "cell_type": "code",
   "execution_count": null,
   "metadata": {
    "collapsed": false
   },
   "outputs": [],
   "source": [
    "doc = etree.ElementTree(e)\n",
    "print(etree.tostring(doc, encoding=str))"
   ]
  },
  {
   "cell_type": "markdown",
   "metadata": {},
   "source": [
    "Now you are able to perform validation, add DTD and so many other XML processing you might know.\n",
    "\n",
    "**Attributes modification **\n",
    "\n",
    "Know that one node accept `set(attribute, value)` as a method. It performs a modification on one attributes."
   ]
  },
  {
   "cell_type": "code",
   "execution_count": null,
   "metadata": {
    "collapsed": false
   },
   "outputs": [],
   "source": [
    "e.set(\"foo\", \"bar\")\n",
    "\n",
    "print(etree.tostring(doc, encoding=str))"
   ]
  },
  {
   "cell_type": "markdown",
   "metadata": {},
   "source": [
    "**DIY**\n",
    "\n",
    "Create an XML node with the following output :\n",
    "\n",
    "    <div xmlns=\"http://www.tei-c.org/ns/1.0\" type=\"textpart\" subtype=\"section\" xml:lang=\"fro\">I am a div</div>"
   ]
  },
  {
   "cell_type": "code",
   "execution_count": null,
   "metadata": {
    "collapsed": true
   },
   "outputs": [],
   "source": [
    "#Write your code here"
   ]
  },
  {
   "cell_type": "markdown",
   "metadata": {
    "collapsed": true
   },
   "source": [
    "## 3\\. SubElements\n",
    "\n",
    "`etree.SubElement()` allows you to add child to an element. It takes as first element the parent node and as second a string representing the tag. It takes clarks notation, allowing you to repeat or change one's namespace. It inherits namespaces and prefix of its parents."
   ]
  },
  {
   "cell_type": "code",
   "execution_count": null,
   "metadata": {
    "collapsed": false
   },
   "outputs": [],
   "source": [
    "e = etree.Element(\n",
    "    \"{http://localhost}div\",\n",
    "    attrib={\n",
    "        \"n\" : \"1\",\n",
    "        \"type\": \"textpart\",\n",
    "        \"subtype\" : \"section\",\n",
    "        \"{http://www.w3.org/XML/1998/namespace}lang\" : \"fre\",\n",
    "        \"{http://purl.org/dc/elements/1.1/}title\" : \"Nice div\"\n",
    "    },\n",
    "    nsmap={None:\"http://localhost\", \"dc\" : \"http://purl.org/dc/elements/1.1/\"}\n",
    ")\n",
    "e.text = \"Hello world !\"\n",
    "s_e = etree.SubElement(e, \"{http://purl.org/dc/elements/1.1/}a\")\n",
    "s_e.text = \"I am an anchor\"\n",
    "print(etree.tostring(e, encoding=str))"
   ]
  },
  {
   "cell_type": "markdown",
   "metadata": {},
   "source": [
    "To add attributes to this SubElement, the syntax is a bit different from Element. You can either use directly `attrib` or named arguments :"
   ]
  },
  {
   "cell_type": "code",
   "execution_count": null,
   "metadata": {
    "collapsed": false
   },
   "outputs": [],
   "source": [
    "# With attrib :\n",
    "s_e_2 = etree.SubElement(e, \"{http://purl.org/dc/elements/1.1/}author\", attrib = { \"foo\" : \"bar\"})\n",
    "# With named argument :\n",
    "s_e_3 = etree.SubElement(e, \"{http://purl.org/dc/elements/1.1/}meta\", name = \"foo\", bar=\"foo2\")\n",
    "print(etree.tostring(e, encoding=str))"
   ]
  },
  {
   "cell_type": "markdown",
   "metadata": {},
   "source": [
    "You are now equipped for long days of document creation. Through, there is another to deal with children. The `append()` method of any other element. Here is a more complex tree."
   ]
  },
  {
   "cell_type": "code",
   "execution_count": null,
   "metadata": {
    "collapsed": false,
    "scrolled": true
   },
   "outputs": [],
   "source": [
    "# We define a namespace map that we will reuse :\n",
    "ns = { None : \"http://www.tei-c.org/ns/1.0\"}\n",
    "\n",
    "# We define a list of lines text (urn:cts:latinLit:phi1294.phi002:1.2):\n",
    "lines = [\"Qui tecum cupis esse meos ubicumque libellos\",\n",
    "        \"Et comites longae quaeris habere viae,\",\n",
    "        \"Hos eme, quos artat brevibus membrana tabellis:\",\n",
    "        \"Scrinia da magnis, me manus una capit.\",\n",
    "        \"Ne tamen ignores ubi sim venalis, et erres\",\n",
    "        \"Urbe vagus tota, me duce certus eris:\",\n",
    "        \"Libertum docti Lucensis quaere Secundum\",\n",
    "        \"Limina post Pacis Palladiumque forum. \"]\n",
    "\n",
    "# We create a div\n",
    "div = etree.Element(\n",
    "    \"{http://www.tei-c.org/ns/1.0}div\",\n",
    "    attrib= { \"type\" : \"textpart\", \"subtype\" : \"poem\", \"n\" : \"2\"},\n",
    "    nsmap = ns\n",
    ")\n",
    "\n",
    "i = 1\n",
    "while len(lines) > 0:\n",
    "    # We create an element\n",
    "    l = etree.Element(\n",
    "        \"{http://www.tei-c.org/ns/1.0}l\",\n",
    "        attrib= {\"n\" : str(i)}\n",
    "    )\n",
    "    l.text = lines.pop(0)  # We remove the first element. See .pop(i) documentation\n",
    "    div.append(l)\n",
    "    \n",
    "    i += 1 # We increment our index\n",
    "\n",
    "print(etree.tostring(div, encoding=str, pretty_print=True))"
   ]
  },
  {
   "cell_type": "markdown",
   "metadata": {},
   "source": [
    "`lxml` allows also index insertion : it means that if you forgot something, or have to process some information after having added your content, you can insert an element at a chosen index with `.insert(index, element)`. This will prove useful to you if you have to request data asynchronously and have some processing to do before."
   ]
  },
  {
   "cell_type": "code",
   "execution_count": null,
   "metadata": {
    "collapsed": false
   },
   "outputs": [],
   "source": [
    "l = etree.Element(\n",
    "    \"{http://www.tei-c.org/ns/1.0}head\"\n",
    ")\n",
    "l.text = \"Epigram 2\"\n",
    "div.insert(0, l)\n",
    "print(etree.tostring(div, encoding=str, pretty_print=True))"
   ]
  },
  {
   "cell_type": "markdown",
   "metadata": {},
   "source": [
    "Note that the last part could have been done using a list of element : `etree.Element()` instances support `.extend()` method which will allow you to append a list of element as children to the node."
   ]
  },
  {
   "cell_type": "markdown",
   "metadata": {},
   "source": [
    "** DIY **\n",
    "\n",
    "Here is the sixth Epigramm from Martial, can you make it so it follows the preceding xml architecture ? Add a `xml:lang` attribute with a value `lat`. Add the `head` at the beginning and a `note` as third child, containing the following text : \"I am a note\""
   ]
  },
  {
   "cell_type": "code",
   "execution_count": null,
   "metadata": {
    "collapsed": true
   },
   "outputs": [],
   "source": [
    "poem = \"\"\"Aetherias aquila puerum portante per auras\n",
    "Inlaesum timidis unguibus haesit onus:\n",
    "Nunc sua Caesareos exorat praeda leones,\n",
    "Tutus et ingenti ludit in ore lepus.\n",
    "Quae maiora putas miracula? summus utrisque\n",
    "Auctor adest: haec sunt Caesaris, illa Iovis.\"\"\""
   ]
  },
  {
   "cell_type": "markdown",
   "metadata": {},
   "source": [
    "##4\\. Removing elements \n",
    "\n",
    "Removing element is another simple job using lxml. It's supposed to be done using `etree.Element`'s method `remove(node)`. This method needs an element as parameter, which means you need to have access to it one way or another. In the case where you did something wrong, you can just remove it using the previous variable you assigned it to."
   ]
  },
  {
   "cell_type": "code",
   "execution_count": null,
   "metadata": {
    "collapsed": false
   },
   "outputs": [],
   "source": [
    "a = etree.Element(\"tag\")\n",
    "b = etree.Element(\"subtag\")\n",
    "a.append(b)\n",
    "\n",
    "print(etree.tostring(a, encoding=str))\n",
    "\n",
    "a.remove(b)\n",
    "print(etree.tostring(a, encoding=str))"
   ]
  },
  {
   "cell_type": "markdown",
   "metadata": {},
   "source": [
    "Through you might not find yourself in a situation where you need to remove a node you just added. It will append most of the time when you'll have xml from external sources and you want to remove something. To do so, we will identify the node using `xpath` or `findall` methods, assign it to a value, and remove it :"
   ]
  },
  {
   "cell_type": "code",
   "execution_count": null,
   "metadata": {
    "collapsed": false
   },
   "outputs": [],
   "source": [
    "xml = \"\"\"<ahab:result xmlns:ahab=\"http://github.com/Capitains/ahab\">\n",
    "<ahab:urn>urn:cts:latinLit:phi1020.phi001.perseus-lat2</ahab:urn>\n",
    "<ahab:passageUrn>urn:cts:latinLit:phi1020.phi001.perseus-lat2:5.612</ahab:passageUrn>\n",
    "<ahab:text>\n",
    "    <p><span class=\"previous\"/><span class=\"hi\">lascivum</span><span class=\"following\">  et prono vexantem gramina cursu?  </span></p>\n",
    "</ahab:text>\n",
    "</ahab:result>\"\"\"\n",
    "parsed = etree.fromstring(xml)\n",
    "# We don't care about the urn, so let's find it first\n",
    "urn = parsed.xpath(\"//ahab:urn\", namespaces = { \"ahab\" : \"http://github.com/Capitains/ahab\" })\n",
    "# We assign it to a variable \n",
    "urn_0 = urn[0]\n",
    "# And we remove it\n",
    "parsed.remove(urn_0)\n",
    "# Let's check\n",
    "print(etree.tostring(parsed, encoding=str, pretty_print=True))"
   ]
  },
  {
   "cell_type": "markdown",
   "metadata": {},
   "source": [
    "The only other destructive method of `etree.Element` is `.clear()` which removes everything inside a node, including attribute, text and children :"
   ]
  },
  {
   "cell_type": "code",
   "execution_count": null,
   "metadata": {
    "collapsed": true
   },
   "outputs": [],
   "source": [
    "# We reuse xml string from last passage\n",
    "parsed = etree.fromstring(xml)\n",
    "# We don't care about the urn, so let's find it first\n",
    "passage = parsed.xpath(\"//span[@class='hi']\")\n",
    "# We assign it to a variable \n",
    "passage_0 = passage[0]\n",
    "# And we remove it\n",
    "passage_0.clear()\n",
    "# Let's check\n",
    "print(etree.tostring(parsed, encoding=str, pretty_print=True))"
   ]
  },
  {
   "cell_type": "markdown",
   "metadata": {},
   "source": [
    "As you can see, everything has been removed, and only the tag stays."
   ]
  },
  {
   "cell_type": "markdown",
   "metadata": {},
   "source": [
    "** DIY **\n",
    "\n",
    "Print a string representing the xml from variable `tei` without any milestone :"
   ]
  },
  {
   "cell_type": "code",
   "execution_count": null,
   "metadata": {
    "collapsed": true
   },
   "outputs": [],
   "source": [
    "tei = \"\"\"\n",
    "<div n=\"3\" subtype=\"chapter\">\n",
    "<milestone unit=\"section\" n=\"7\" />\n",
    "    <p>\n",
    "        <reg>ac</reg> multum etiam novitatem tuam adiuvat quod eius modi nobiles tecum petunt, ut nemo sit\n",
    "        qui audeat dicere plus illis nobilitatem quam tibi virtutem prodesse oportere.\n",
    "          <reg>nam</reg>\n",
    "        P. Galbam et L. Cassium summo loco natos quis est\n",
    "        qui petere consu<pb n=\"156\"/>latum putet? <reg>vides</reg> igitur amplissimis ex familiis homines, quod\n",
    "        sine nervis sunt, tibi paris non esse. <reg>at</reg>\n",
    "        Antonius et Catilina molesti sunt.\n",
    "    </p> \n",
    "<milestone n=\"8\" unit=\"section\" />\n",
    "    <p>\n",
    "        <reg>immo</reg> homini navo, industrio, innocenti, diserto, gratioso apud eos qui res\n",
    "        iudicant, optandi competitores ambo a puemitia sicarii, ambo libidinosi, ambo egentes.\n",
    "          Eorum alterius bona proscripta vidimus, vocem denique audivimus iurantis se\n",
    "          Romae iudicio aequo cum homine Graeco certare non posse, ex\n",
    "        senatu eiectum scimus optima verorum censorum existimatione, in praetura competitorem\n",
    "        habuimus amico Sabidio et Panthera, quom ad <pb n=\"157\"/> tabulam quos poneret non haberet; quo tamen in\n",
    "        magistratu amicam quam domi palam haberet de machinis emit. <reg>in</reg> petitione autem\n",
    "        consulatus Cappadoces omnis compilare per turpissimam legationem maluit quam adesse et\n",
    "        populo Romano supplicare.\n",
    "    </p>\n",
    "<milestone unit=\"section\" n=\"9\" />\n",
    "    <p><reg>alter</reg>\n",
    "        vero, di boni! quo splendore est? <reg>primum</reg> nobilitate eadem <del>qua\n",
    "          Catilina</del>. <reg>num</reg> maiore? <reg>non</reg>. <reg>sed</reg> virtute.\n",
    "          <reg>quam</reg> ob rem? <reg>quod</reg>\n",
    "        Antonius umbram suam metuit, hic ne leges quidem natus in patris egestate,\n",
    "        educatus in sororis stupris, corroboratus in caede civium, cuius primus ad rem publicam\n",
    "        aditus in equitibus R. occidendis fuit (nam illis quos meminimus Gallis, qui\n",
    "        tum Titiniorum ac Nanniorum ac <pb/>\n",
    "        Tanusiorum capita demebant, Sulla <pb n=\"158\"/> unum Catilinam\n",
    "        praefecerat); in quibus ille hominem optimum, Q. Caecilium, sororis\n",
    "        suae virum, equitem Romanum, nullarum partium, cum semper natura tum etiam\n",
    "        aetate iam quietum, suis manibus occidit.\n",
    "    </p>\n",
    "</div>\n",
    "\"\"\""
   ]
  },
  {
   "cell_type": "markdown",
   "metadata": {},
   "source": [
    "##5\\. Element maker\n",
    "\n",
    "ElementMaker is a strong exclusive function of lxml. It allows to create a tree really easily, without storing much variable. It's part of another `lxml` modules and should be imported as follow :"
   ]
  },
  {
   "cell_type": "code",
   "execution_count": null,
   "metadata": {
    "collapsed": true
   },
   "outputs": [],
   "source": [
    "from lxml.builder import E"
   ]
  },
  {
   "cell_type": "markdown",
   "metadata": {},
   "source": [
    "`E` is an instance of ElementMaker function. This allows to create nodes quite simply : the syntax is composed of `E.TAGNAME()`, *eg* : `e.div() == \"<div />\"`. To pass informations to it, you just add values. `E.something()` takes in the order you wish attributes as a dictionary, strings and other `E.something` calls :"
   ]
  },
  {
   "cell_type": "code",
   "execution_count": null,
   "metadata": {
    "collapsed": false
   },
   "outputs": [],
   "source": [
    "xml = E.div(\n",
    "    { \n",
    "        \"n\" : \"1\",\n",
    "        \"type\": \"textpart\",\n",
    "        \"subtype\" : \"section\"\n",
    "    },\n",
    "    \"Head\",\n",
    "    E.l( { \"n\" : \"1\" }, \"Qui tecum cupis esse meos ubicumque libellos\"),\n",
    "    E.l( { \"n\" : \"2\" }, \"Et comites longae quaeris habere viae,\"),\n",
    "    E.l( { \"n\" : \"3\" }, \"Hos eme, quos artat brevibus membrana tabellis:\"),\n",
    "    E.l( { \"n\" : \"4\" }, \"Scrinia da magnis, me manus una capit.\"),\n",
    "    E.l( { \"n\" : \"5\" }, \"5Ne tamen ignores ubi sim venalis, et erres\"),\n",
    "    E.l( { \"n\" : \"6\" }, \"Urbe vagus tota, me duce certus eris:\"),\n",
    "    E.l( { \"n\" : \"7\" }, \"Libertum docti Lucensis quaere Secundum\"),\n",
    "    E.l( { \"n\" : \"8\" }, \"Limina post Pacis Palladiumque forum. \"),\n",
    "    \"Tail\"\n",
    ")\n",
    "\n",
    "# But we still need lxml to print\n",
    "from lxml import etree\n",
    "print(etree.tostring(xml, encoding=str))"
   ]
  },
  {
   "cell_type": "markdown",
   "metadata": {},
   "source": [
    "As we said, `E` is an instance of function `lxml.builder.ElementMaker`. This means it's already the result of another function. `ElementMaker` takes namespaces as an argument, giving you the ability to create a default namespace for your whole tree ! One of the bad side of it is that it adds once again `ns0` prefix :"
   ]
  },
  {
   "cell_type": "code",
   "execution_count": null,
   "metadata": {
    "collapsed": false
   },
   "outputs": [],
   "source": [
    "from lxml.builder import ElementMaker\n",
    "TEI = ElementMaker(namespace=\"http://www.tei-c.org/ns/1.0\")\n",
    "xml = TEI.div(\n",
    "    { \n",
    "        \"n\" : \"1\",\n",
    "        \"type\": \"textpart\",\n",
    "        \"subtype\" : \"section\"\n",
    "    },\n",
    "    \"Head\",\n",
    "    TEI.l( { \"n\" : \"1\" }, \"Qui tecum cupis esse meos ubicumque libellos\"),\n",
    "    TEI.l( { \"n\" : \"2\" }, \"Et comites longae quaeris habere viae,\"),\n",
    "    TEI.l( { \"n\" : \"3\" }, \"Hos eme, quos artat brevibus membrana tabellis:\"),\n",
    "    TEI.l( { \"n\" : \"4\" }, \"Scrinia da magnis, me manus una capit.\"),\n",
    "    TEI.l( { \"n\" : \"5\" }, \"5Ne tamen ignores ubi sim venalis, et erres\"),\n",
    "    TEI.l( { \"n\" : \"6\" }, \"Urbe vagus tota, me duce certus eris:\"),\n",
    "    TEI.l( { \"n\" : \"7\" }, \"Libertum docti Lucensis quaere Secundum\"),\n",
    "    TEI.l( { \"n\" : \"8\" }, \"Limina post Pacis Palladiumque forum. \"),\n",
    "    \"Tail\"\n",
    ")\n",
    "\n",
    "# But we still need lxml to print\n",
    "from lxml import etree\n",
    "print(etree.tostring(xml, encoding=str))"
   ]
  },
  {
   "cell_type": "markdown",
   "metadata": {},
   "source": [
    "## Going further\n",
    "\n",
    "- Python XML processing with lxml, John W. Shipman, http://infohost.nmt.edu/tcc/help/pubs/pylxml/web/module-etree.html"
   ]
  },
  {
   "cell_type": "markdown",
   "metadata": {},
   "source": [
    "##Exercises\n",
    "\n",
    "### 1\\. XML to String\n",
    "\n",
    "Using the first Poem identified by 1.1 in Martial's Epigrammata, replace all line by paragraphs. You should request it from the CTS service using the URN `urn:cts:latinLit:phi1294.phi002.perseus-lat2:1.1` and the inventory `nemo` on `http://services2.perseids.org/exist/restxq/cts`"
   ]
  },
  {
   "cell_type": "code",
   "execution_count": null,
   "metadata": {
    "collapsed": true
   },
   "outputs": [],
   "source": []
  },
  {
   "cell_type": "markdown",
   "metadata": {},
   "source": [
    "### 2\\. XML from XPath\n",
    "\n",
    "Create a function which given an xpath, creates and returns the whole tree.\n",
    "\n",
    "Expected outcome :\n",
    "\n",
    "    xml = fromXpath(\"/TEI/body/text/div\")\n",
    "    print(etree.tostring(xml))\n",
    "> `<TEI><body><text><div></div></text></body></TEI>`"
   ]
  },
  {
   "cell_type": "code",
   "execution_count": null,
   "metadata": {
    "collapsed": true
   },
   "outputs": [],
   "source": [
    "# Write your code here"
   ]
  },
  {
   "cell_type": "markdown",
   "metadata": {},
   "source": [
    "### 3\\. XML from XPath with attributes\n",
    "\n",
    "Taking a single node xpath as parameter, write a function which will create a node with its attributes.\n",
    "\n",
    "Expected outcome :\n",
    "\n",
    "    xml = fromXpath(\"div[@n='1' and @subtype='chapter']\")\n",
    "    print(etree.tostring(xml))\n",
    "> `<div n=\"1\" subtype=\"chapter\"/>`"
   ]
  },
  {
   "cell_type": "code",
   "execution_count": null,
   "metadata": {
    "collapsed": true
   },
   "outputs": [],
   "source": []
  },
  {
   "cell_type": "markdown",
   "metadata": {},
   "source": [
    "### 4\\. Full XML from complex XPath\n",
    "\n",
    "Using the outcome of the previous two exercises, write a function which can create a complex tree using xpath :\n",
    "\n",
    "    xml = fromXpath(\"/TEI/body/text/div[@type='edition' and @n='0']/div[@n='1' and @subtype='chapter']\")\n",
    "    print(etree.tostring(xml))\n",
    "> `<TEI><body><text><div n=\"0\" type=\"edition\"><div n=\"1\" subtype=\"chapter\" /></div></text></body></TEI>`"
   ]
  },
  {
   "cell_type": "code",
   "execution_count": null,
   "metadata": {
    "collapsed": true
   },
   "outputs": [],
   "source": []
  },
  {
   "cell_type": "markdown",
   "metadata": {
    "collapsed": true
   },
   "source": [
    "-----"
   ]
  },
  {
   "cell_type": "code",
   "execution_count": 114,
   "metadata": {
    "collapsed": false
   },
   "outputs": [
    {
     "data": {
      "text/html": [
       "<style>\n",
       "    @font-face {\n",
       "        font-family: \"Computer Modern\";\n",
       "        src: url('http://mirrors.ctan.org/fonts/cm-unicode/fonts/otf/cmunss.otf');\n",
       "    }\n",
       "    div.cell {\n",
       "        width:800px;\n",
       "        margin-left:auto;\n",
       "        margin-right:auto;\n",
       "    }\n",
       "    div.cell, .input.hbox {\n",
       "    display:block;\n",
       "}\n",
       "    h1 {\n",
       "        font-family: \"Charis SIL\", Palatino, serif;\n",
       "    }\n",
       "    h4{\n",
       "        margin-top:12px;\n",
       "        margin-bottom: 3px;\n",
       "       }\n",
       "    div.text_cell_render{\n",
       "        font-family: Computer Modern, \"Helvetica Neue\", Arial, Helvetica, Geneva, sans-serif;\n",
       "        line-height: 145%;\n",
       "        font-size: 120%;\n",
       "        width:800px;\n",
       "        margin-left:auto;\n",
       "        margin-right:auto;\n",
       "    }\n",
       "    .CodeMirror{\n",
       "            font-family: \"Source Code Pro\", source-code-pro,Consolas, monospace;\n",
       "    }\n",
       "    .prompt{\n",
       "        display: None;\n",
       "    }\n",
       "    .text_cell_render h5 {\n",
       "        font-weight: 300;\n",
       "        font-size: 16pt;\n",
       "        color: #4057A1;\n",
       "        font-style: italic;\n",
       "        margin-bottom: .5em;\n",
       "        margin-top: 0.5em;\n",
       "        display: block;\n",
       "    }\n",
       "    \n",
       "    .warning{\n",
       "        color: rgb( 240, 20, 20 )\n",
       "        }\n",
       "\n",
       "    blockquote {\n",
       "    border-left: 4px solid #DDDDDD;\n",
       "    color: #777777;\n",
       "        padding: 0 15px;\n",
       "        }\n",
       "\n",
       "</style>\n",
       "<script>\n",
       "    MathJax.Hub.Config({\n",
       "                        TeX: {\n",
       "                           extensions: [\"AMSmath.js\"]\n",
       "                           },\n",
       "                tex2jax: {\n",
       "                    inlineMath: [ ['$','$'], [\"\\\\(\",\"\\\\)\"] ],\n",
       "                    displayMath: [ ['$$','$$'], [\"\\\\[\",\"\\\\]\"] ]\n",
       "                },\n",
       "                displayAlign: 'center', // Change this to 'center' to center equations.\n",
       "                \"HTML-CSS\": {\n",
       "                    styles: {'.MathJax_Display': {\"margin\": 4}}\n",
       "                }\n",
       "        });\n",
       "</script>"
      ],
      "text/plain": [
       "<IPython.core.display.HTML object>"
      ]
     },
     "execution_count": 114,
     "metadata": {},
     "output_type": "execute_result"
    }
   ],
   "source": [
    "# Do not care about this cell, it's just here to make the page nicer.\n",
    "\n",
    "from IPython.core.display import HTML\n",
    "def css_styling():\n",
    "    styles = open(\"styles/custom.css\", \"r\").read()\n",
    "    return HTML(styles)\n",
    "css_styling()"
   ]
  },
  {
   "cell_type": "markdown",
   "metadata": {},
   "source": [
    "---"
   ]
  },
  {
   "cell_type": "markdown",
   "metadata": {},
   "source": [
    "<p><small><a rel=\"license\" href=\"http://creativecommons.org/licenses/by-sa/4.0/\"><img alt=\"Creative Commons License\" style=\"border-width:0\" src=\"https://i.creativecommons.org/l/by-sa/4.0/88x31.png\" /></a><br /><span xmlns:dct=\"http://purl.org/dc/terms/\" property=\"dct:title\">Python Programming for the Humanities</span> by <a xmlns:cc=\"http://creativecommons.org/ns#\" href=\"http://fbkarsdorp.github.io/python-course\" property=\"cc:attributionName\" rel=\"cc:attributionURL\">http://fbkarsdorp.github.io/python-course</a> is licensed under a <a rel=\"license\" href=\"http://creativecommons.org/licenses/by-sa/4.0/\">Creative Commons Attribution-ShareAlike 4.0 International License</a>. Based on a work at <a xmlns:dct=\"http://purl.org/dc/terms/\" href=\"https://github.com/fbkarsdorp/python-course\" rel=\"dct:source\">https://github.com/fbkarsdorp/python-course</a>.</small></p>"
   ]
  }
 ],
 "metadata": {
  "kernelspec": {
   "display_name": "Python 3",
   "language": "python",
   "name": "python3"
  },
  "language_info": {
   "codemirror_mode": {
    "name": "ipython",
    "version": 3
   },
   "file_extension": ".py",
   "mimetype": "text/x-python",
   "name": "python",
   "nbconvert_exporter": "python",
   "pygments_lexer": "ipython3",
   "version": "3.4.3"
  }
 },
 "nbformat": 4,
 "nbformat_minor": 0
}
