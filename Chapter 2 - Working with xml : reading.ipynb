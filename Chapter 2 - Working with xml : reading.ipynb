{
 "cells": [
  {
   "cell_type": "markdown",
   "metadata": {},
   "source": [
    "# Chapter 2: Working with xml : reading"
   ]
  },
  {
   "cell_type": "markdown",
   "metadata": {},
   "source": [
    "## 1. XML, XPath and DOM"
   ]
  },
  {
   "cell_type": "markdown",
   "metadata": {},
   "source": [
    "XML, standing for eXtensible Markup Language, is a markup language designed for description of data. Unlike html, XML is free of any rules, except having clean markup. You can invent your own tag or use tags supplied by ODD, guidelines and set of tags design for collaboration and shared practices.\n",
    "\n",
    "You will have heard of TEI. TEI is a nice, complex, complete language for encoding texts.\n",
    "\n",
    "**Write more here**"
   ]
  },
  {
   "cell_type": "markdown",
   "metadata": {},
   "source": [
    "![XML, source of our everyday](images/XML.svg)"
   ]
  },
  {
   "cell_type": "markdown",
   "metadata": {},
   "source": [
    "## 2\\. Parsing XML with Python"
   ]
  },
  {
   "cell_type": "markdown",
   "metadata": {},
   "source": [
    "As for querying the web, Python has many libraries for playing with xml. You will most likely encounter the following during your pythonic journey :\n",
    "\n",
    "- **lxml**, which we will use for this course. A clean, quite fast, strict library for dealing with xml resources. It's the most accepted library for this kind of request. I mean, if IBM writes [tutorials for it](http://www.ibm.com/developerworks/library/x-hiperfparse/), it should be good. It supports xpath and xslt.\n",
    "- **BeautifulSoup**. Flexible, average speed. The good thing with it ? If your xml markup is messed up, it will try to correct it. It's perfect for dealing with web scrapped data in HTML formats. For clean xml, it might be too slow.\n",
    "- **xml** : the native integration in Python. Fast, clean but no good sides such as xpath and xslt.\n",
    "- See some others on Python [official wiki](https://wiki.python.org/moin/PythonXml)\n"
   ]
  },
  {
   "cell_type": "markdown",
   "metadata": {},
   "source": [
    "From a pure experience point of view, lxml appears to be the one who will fit most of your needs when dealing with clean data. Clean is the key word here : do not expect lxml to play well with bad html or bad xml. It will just throw errors at you until you give up or fix it by hand.\n",
    "\n",
    "The same way we have imported requests, we will now import lxml.etree."
   ]
  },
  {
   "cell_type": "code",
   "execution_count": 2,
   "metadata": {
    "collapsed": true
   },
   "outputs": [],
   "source": [
    "from lxml import etree"
   ]
  },
  {
   "cell_type": "markdown",
   "metadata": {},
   "source": [
    "### From file to XML object"
   ]
  },
  {
   "cell_type": "markdown",
   "metadata": {},
   "source": [
    "Opening an xml file is actually quite simple : you open it and you parse it. Who would have guessed ?"
   ]
  },
  {
   "cell_type": "code",
   "execution_count": null,
   "metadata": {
    "collapsed": false
   },
   "outputs": [],
   "source": [
    "# We open our file\n",
    "with open(\"data/phi1294.phi002.perseus-lat2.xml\") as file:\n",
    "    # We use the etree.parse property\n",
    "    parsed = etree.parse(file)\n",
    "# We print the object\n",
    "print(parsed)"
   ]
  },
  {
   "cell_type": "markdown",
   "metadata": {},
   "source": [
    "As you can see, we obtained an instance of type lxml.etree.\\_ElementTree. It means the xml markup has been transformed into something Python understands.\n",
    "\n",
    "The *parse* function of *etree* does not take much arguments. One way to customize its behaviour is to give it a home configured or homemade xml parser : "
   ]
  },
  {
   "cell_type": "code",
   "execution_count": null,
   "metadata": {
    "collapsed": false
   },
   "outputs": [],
   "source": [
    "# We initiate a new parser from etree, asking it to remove nodes of text which are empty\n",
    "parser = etree.XMLParser(remove_blank_text=True)\n",
    "# We open the file\n",
    "with open(\"data/phi1294.phi002.perseus-lat2.xml\") as file:\n",
    "    # And we parse using the new parser\n",
    "    parsed = etree.parse(file, parser)\n",
    "# We print the object\n",
    "print(parsed)\n",
    "# We open the file"
   ]
  },
  {
   "cell_type": "markdown",
   "metadata": {},
   "source": [
    "From the [documentation](http://lxml.de/parsing.html#parser-options) of the XMLParser function, few arguments might be useful to you :\n",
    "\n",
    "- *attribute_defaults* : Use DTD (if available) to add the default attributes\n",
    "- *dtd_validation* : Validate against DTD while parsing\n",
    "- *load_dtd* : Load and parse the DTD while parsing\n",
    "- *ns_clean* : Clean up redundant namespace declarations\n",
    "- *recover* : Try to fix ill formed xml\n",
    "- *remove_blank_text* : Removes blank text nodes\n",
    "- *resolve_entities* : Replace entities by their value (Default : on)\n",
    "\n",
    "You can then create a new parser according to its standards or clean namespace attribute. In this context, *ns_clean* would transform\n",
    "\n",
    "\n",
    "`<root xmlns:a=\"xmlns1\" xmlns:b=\"xmlns2\"><tag xmlns:c=\"xmlns3\" /><tag xmlns:a=\"xmlns1\" /><tag /></root>`\n",
    "\n",
    "into\n",
    "\n",
    "`<root xmlns:a=\"xmlns1\" xmlns:b=\"xmlns2\"><tag xmlns:c=\"xmlns3\" /><tag/><tag /></root>`"
   ]
  },
  {
   "cell_type": "markdown",
   "metadata": {},
   "source": [
    "###From string to XML object"
   ]
  },
  {
   "cell_type": "markdown",
   "metadata": {},
   "source": [
    "The same way lxml offers parsing file, lxml accept as well strings. The syntax differs, but is quite simple :"
   ]
  },
  {
   "cell_type": "code",
   "execution_count": 3,
   "metadata": {
    "collapsed": false
   },
   "outputs": [
    {
     "name": "stdout",
     "output_type": "stream",
     "text": [
      "<Element root at 0x7f2aa813ed48>\n"
     ]
    }
   ],
   "source": [
    "xml = '<root xmlns:a=\"xmlns1\" xmlns:b=\"xmlns2\"><tag xmlns:c=\"xmlns3\" /><tag xmlns:a=\"xmlns1\" /><tag /></root>'\n",
    "parsed = etree.fromstring(xml)\n",
    "print(parsed)"
   ]
  },
  {
   "cell_type": "markdown",
   "metadata": {},
   "source": [
    "**DIY**\n",
    "\n",
    "Can you parse a xml document made of one tag \"humanities\" with two children \"field\" containing \"classics\" and \"history\" as text ? "
   ]
  },
  {
   "cell_type": "code",
   "execution_count": 4,
   "metadata": {
    "collapsed": true
   },
   "outputs": [],
   "source": [
    "# Put your code here"
   ]
  },
  {
   "cell_type": "markdown",
   "metadata": {},
   "source": [
    "###Errors and understanding them"
   ]
  },
  {
   "cell_type": "markdown",
   "metadata": {},
   "source": [
    "Previouly, we have said that lxml was quite strict about xml validity. Let's see an example :"
   ]
  },
  {
   "cell_type": "code",
   "execution_count": 5,
   "metadata": {
    "collapsed": false
   },
   "outputs": [
    {
     "ename": "XMLSyntaxError",
     "evalue": "Entity 'responsibility' not defined, line 8, column 25 (<string>)",
     "output_type": "error",
     "traceback": [
      "\u001b[1;36m  File \u001b[1;32m\"<string>\"\u001b[1;36m, line \u001b[1;32munknown\u001b[0m\n\u001b[1;31mXMLSyntaxError\u001b[0m\u001b[1;31m:\u001b[0m Entity 'responsibility' not defined, line 8, column 25\n"
     ]
    }
   ],
   "source": [
    "xml = \"\"\"\n",
    "<fileDesc>\n",
    "    <titleStmt>\n",
    "        <title>Aeneid</title>\n",
    "        <title type=\"sub\">Machine readable text</title>\n",
    "        <author n=\"Verg.\">P. Vergilius Maro</author>\n",
    "        <editor role=\"editor\" n=\"Greenough\">J. B. Greenough</editor>\n",
    "        &responsibility;\n",
    "        &fund.NEH;\n",
    "    </titleStmt>\n",
    "    <extent>about 505Kb</extent>\n",
    "    &Perseus.publish;\n",
    "    <sourceDesc>\n",
    "        <biblStruct>\n",
    "            <monogr>\n",
    "                <author>Vergil</author>\n",
    "                <title>Bucolics, Aeneid, and Georgics Of Vergil</title>\n",
    "                <editor role=\"editor\">J. B. Greenough</editor>\n",
    "                <imprint>\n",
    "                    <pubPlace>Boston</pubPlace>\n",
    "                    <publisher>Ginn &amp; Co.</publisher>\n",
    "                    <date>1900</date>\n",
    "                </imprint>\n",
    "            </monogr>\n",
    "        </biblStruct>\n",
    "    </sourceDesc>\n",
    "</fileDesc>\"\"\"\n",
    "\n",
    "etree.fromstring(xml)"
   ]
  },
  {
   "cell_type": "markdown",
   "metadata": {},
   "source": [
    "What error did we raise trying to parse this XML ? We got an *XMLSyntaxError*. It happens for different reasons, including when entities are not possible to be parsed. Can you try to find another error raising an XMLSyntaxError ?"
   ]
  },
  {
   "cell_type": "code",
   "execution_count": null,
   "metadata": {
    "collapsed": false
   },
   "outputs": [],
   "source": [
    "#Write your xml in xml variable\n",
    "xml = \"\"\"\n",
    "\"\"\"\n",
    "etree.fromstring(xml)"
   ]
  },
  {
   "cell_type": "markdown",
   "metadata": {},
   "source": [
    "As you can see, errors are detailed enough so you can correct your own XML, at least manually."
   ]
  },
  {
   "cell_type": "markdown",
   "metadata": {},
   "source": [
    "### Node properties and methods"
   ]
  },
  {
   "cell_type": "markdown",
   "metadata": {},
   "source": [
    "*Quick explanation* : Methods and properties are something special in Python and other programming languages. Unlike traditional functions (`len()`) and keys of dictionaries (`a[\"b\"]`), they are part of something bigger.\n",
    "\n",
    "**Methods** : Ever seen something such as `a.method()` ? Yes, you did with `.split()`, `.join()`, etc. Functions following a variable with a point are called methods because they are an extension of the variable type. *eh* `split()` and `join()` are extensions of string objects, and they use their value as argument.\n",
    "\n",
    "**Properties** : Such as dictionary keys, properties are indexed values of an object, but instead of using the syntax made of square brackets, you just put the name of the key after a point : `a.property`"
   ]
  },
  {
   "cell_type": "markdown",
   "metadata": {},
   "source": [
    "**Warning : namespaces** : In lxml, namespaces are expressed using the Clark notation. This mean that, if a namespace defines a node, this node will be named using the following syntax \"`{namespace}tagname`. Here is an example :"
   ]
  },
  {
   "cell_type": "code",
   "execution_count": 10,
   "metadata": {
    "collapsed": false
   },
   "outputs": [
    {
     "name": "stdout",
     "output_type": "stream",
     "text": [
      "<Element root at 0x7f2aa80d4108>\n",
      "<Element {http://localhost}root at 0x7f2aa80d4188>\n"
     ]
    }
   ],
   "source": [
    "# With no namespace\n",
    "print(etree.fromstring(\"<root />\"))\n",
    "# With namespace\n",
    "print(etree.fromstring(\"<root xmlns='http://localhost' />\"))"
   ]
  },
  {
   "cell_type": "markdown",
   "metadata": {},
   "source": [
    "You can do plenty of things using lxml and access properties or methods of nodes, here is a resume of reading functionalities offered by lxml :"
   ]
  },
  {
   "cell_type": "markdown",
   "metadata": {},
   "source": [
    "![Cheatsheet](images/CheatsheetElement.svg)"
   ]
  },
  {
   "cell_type": "markdown",
   "metadata": {},
   "source": [
    "Let's see what it means in real life :"
   ]
  },
  {
   "cell_type": "code",
   "execution_count": 32,
   "metadata": {
    "collapsed": false
   },
   "outputs": [
    {
     "name": "stdout",
     "output_type": "stream",
     "text": [
      "<Element div at 0x7f2aa80cfb08>\n"
     ]
    }
   ],
   "source": [
    "# First, we will need some xml\n",
    "xml = \"\"\"\n",
    "<div type=\"Book\" n=\"1\">\n",
    "    <l n=\"1\">Arma virumque cano, Troiae qui primus ab oris</l>\n",
    "    <tei:l n=\"2\" xmlns:tei=\"http://www.tei-c.org/ns/1.0\">Italiam, fato profugus, Laviniaque venit</tei:l>\n",
    "    <l n=\"3\">litora, multum ille et terris iactatus et alto</l>\n",
    "    <l n=\"4\">vi superum saevae memorem Iunonis ob iram;</l>\n",
    "    <l n=\"5\">multa quoque et bello passus, dum conderet urbem,</l>\n",
    "    <l n=\"6\">inferretque deos Latio, genus unde Latinum,</l>\n",
    "    <l n=\"7\">Albanique patres, atque altae moenia Romae.</l>\n",
    "</div>\n",
    "\"\"\"\n",
    "div = etree.fromstring(xml)\n",
    "print(parsed)"
   ]
  },
  {
   "cell_type": "markdown",
   "metadata": {},
   "source": [
    "If we want to retrieve the attributes of our div, we can do as follow :"
   ]
  },
  {
   "cell_type": "code",
   "execution_count": 33,
   "metadata": {
    "collapsed": false
   },
   "outputs": [
    {
     "name": "stdout",
     "output_type": "stream",
     "text": [
      "Book\n",
      "{'n': '1', 'type': 'Book'}\n",
      "[('type', 'Book'), ('n', '1')]\n"
     ]
    }
   ],
   "source": [
    "type_div = div.get(\"type\")\n",
    "print(type_div)\n",
    "# If we want a dictionary of attributes\n",
    "attributes_div = dict(div.attrib)\n",
    "print(attributes_div)\n",
    "# Of if we want a list\n",
    "list_attributes_div = div.items()\n",
    "print(list_attributes_div)"
   ]
  },
  {
   "cell_type": "markdown",
   "metadata": {},
   "source": [
    "Great ! We accessed our first information using lxml ! Now, how about getting to somewhere else than the root tag ? To do so, there is two ways :\n",
    "\n",
    "- getchildren() will returns a list of children tags, such as div.\n",
    "- list(div) will transform div in a list of children.\n",
    "\n",
    "Both syntaxes have the same results, it's up to you to decide which one you prefer. "
   ]
  },
  {
   "cell_type": "code",
   "execution_count": 34,
   "metadata": {
    "collapsed": false
   },
   "outputs": [
    {
     "name": "stdout",
     "output_type": "stream",
     "text": [
      "<Element l at 0x7f2aa80db688>\n"
     ]
    }
   ],
   "source": [
    "children = div.getchildren()\n",
    "line_1 = children[0] # Because it's a list we can access children through index\n",
    "print(line_1)"
   ]
  },
  {
   "cell_type": "markdown",
   "metadata": {},
   "source": [
    "Now that we have access to our children, we can have access to their text :"
   ]
  },
  {
   "cell_type": "code",
   "execution_count": 35,
   "metadata": {
    "collapsed": false
   },
   "outputs": [
    {
     "name": "stdout",
     "output_type": "stream",
     "text": [
      "Arma virumque cano, Troiae qui primus ab oris\n"
     ]
    }
   ],
   "source": [
    "print(line_1.text)"
   ]
  },
  {
   "cell_type": "markdown",
   "metadata": {},
   "source": [
    "Ok, we are now able to get some stuff done. Remember the namespace naming ? Sometime, it will be helpful to retrieve namespaces and their prefix :"
   ]
  },
  {
   "cell_type": "code",
   "execution_count": 38,
   "metadata": {
    "collapsed": false
   },
   "outputs": [
    {
     "name": "stdout",
     "output_type": "stream",
     "text": [
      "{'tei': 'http://www.tei-c.org/ns/1.0'}\n",
      "tei\n",
      "{http://www.tei-c.org/ns/1.0}l\n"
     ]
    }
   ],
   "source": [
    "line_2 = children[1]\n",
    "print(line_2.nsmap)\n",
    "print(line_2.prefix)\n",
    "print(line_2.tag)"
   ]
  },
  {
   "cell_type": "markdown",
   "metadata": {},
   "source": [
    "**DIY**\n",
    "\n",
    "Can you print the complete text of those lines ? (Hint : you will need to loop over something)"
   ]
  },
  {
   "cell_type": "code",
   "execution_count": 39,
   "metadata": {
    "collapsed": true
   },
   "outputs": [],
   "source": [
    "#Write your code here"
   ]
  },
  {
   "cell_type": "markdown",
   "metadata": {},
   "source": [
    "## 3\\. XPath and XSLT with lxml"
   ]
  },
  {
   "cell_type": "markdown",
   "metadata": {},
   "source": [
    "### XPath"
   ]
  },
  {
   "cell_type": "markdown",
   "metadata": {},
   "source": [
    "XPath is a powerful tool for traversing xml tree. It gives you the ability to avoid "
   ]
  },
  {
   "cell_type": "markdown",
   "metadata": {},
   "source": [
    "###XSLT"
   ]
  },
  {
   "cell_type": "markdown",
   "metadata": {},
   "source": [
    "## 4\\. Use case : how to cut locally a text into chunk."
   ]
  },
  {
   "cell_type": "markdown",
   "metadata": {},
   "source": [
    "## Exercises :"
   ]
  },
  {
   "cell_type": "markdown",
   "metadata": {},
   "source": [
    "## Going further\n"
   ]
  },
  {
   "cell_type": "markdown",
   "metadata": {},
   "source": [
    "-----"
   ]
  },
  {
   "cell_type": "code",
   "execution_count": 19,
   "metadata": {
    "collapsed": false
   },
   "outputs": [
    {
     "data": {
      "text/html": [
       "<style>\n",
       "    @font-face {\n",
       "        font-family: \"Computer Modern\";\n",
       "        src: url('http://mirrors.ctan.org/fonts/cm-unicode/fonts/otf/cmunss.otf');\n",
       "    }\n",
       "    div.cell {\n",
       "        width:800px;\n",
       "        margin-left:auto;\n",
       "        margin-right:auto;\n",
       "    }\n",
       "    div.cell, .input.hbox {\n",
       "    display:block;\n",
       "}\n",
       "    h1 {\n",
       "        font-family: \"Charis SIL\", Palatino, serif;\n",
       "    }\n",
       "    h4{\n",
       "        margin-top:12px;\n",
       "        margin-bottom: 3px;\n",
       "       }\n",
       "    div.text_cell_render{\n",
       "        font-family: Computer Modern, \"Helvetica Neue\", Arial, Helvetica, Geneva, sans-serif;\n",
       "        line-height: 145%;\n",
       "        font-size: 120%;\n",
       "        width:800px;\n",
       "        margin-left:auto;\n",
       "        margin-right:auto;\n",
       "    }\n",
       "    .CodeMirror{\n",
       "            font-family: \"Source Code Pro\", source-code-pro,Consolas, monospace;\n",
       "    }\n",
       "    .prompt{\n",
       "        display: None;\n",
       "    }\n",
       "    .text_cell_render h5 {\n",
       "        font-weight: 300;\n",
       "        font-size: 16pt;\n",
       "        color: #4057A1;\n",
       "        font-style: italic;\n",
       "        margin-bottom: .5em;\n",
       "        margin-top: 0.5em;\n",
       "        display: block;\n",
       "    }\n",
       "    \n",
       "    .warning{\n",
       "        color: rgb( 240, 20, 20 )\n",
       "        }\n",
       "\n",
       "    blockquote {\n",
       "    border-left: 4px solid #DDDDDD;\n",
       "    color: #777777;\n",
       "        padding: 0 15px;\n",
       "        }\n",
       "\n",
       "</style>\n",
       "<script>\n",
       "    MathJax.Hub.Config({\n",
       "                        TeX: {\n",
       "                           extensions: [\"AMSmath.js\"]\n",
       "                           },\n",
       "                tex2jax: {\n",
       "                    inlineMath: [ ['$','$'], [\"\\\\(\",\"\\\\)\"] ],\n",
       "                    displayMath: [ ['$$','$$'], [\"\\\\[\",\"\\\\]\"] ]\n",
       "                },\n",
       "                displayAlign: 'center', // Change this to 'center' to center equations.\n",
       "                \"HTML-CSS\": {\n",
       "                    styles: {'.MathJax_Display': {\"margin\": 4}}\n",
       "                }\n",
       "        });\n",
       "</script>"
      ],
      "text/plain": [
       "<IPython.core.display.HTML object>"
      ]
     },
     "execution_count": 19,
     "metadata": {},
     "output_type": "execute_result"
    }
   ],
   "source": [
    "# Do not care about this cell, it's just here to make the page nicer.\n",
    "\n",
    "from IPython.core.display import HTML\n",
    "def css_styling():\n",
    "    styles = open(\"styles/custom.css\", \"r\").read()\n",
    "    return HTML(styles)\n",
    "css_styling()"
   ]
  },
  {
   "cell_type": "markdown",
   "metadata": {},
   "source": [
    "---"
   ]
  },
  {
   "cell_type": "markdown",
   "metadata": {},
   "source": [
    "<p><small><a rel=\"license\" href=\"http://creativecommons.org/licenses/by-sa/4.0/\"><img alt=\"Creative Commons License\" style=\"border-width:0\" src=\"https://i.creativecommons.org/l/by-sa/4.0/88x31.png\" /></a><br /><span xmlns:dct=\"http://purl.org/dc/terms/\" property=\"dct:title\">Python Programming for the Humanities</span> by <a xmlns:cc=\"http://creativecommons.org/ns#\" href=\"http://fbkarsdorp.github.io/python-course\" property=\"cc:attributionName\" rel=\"cc:attributionURL\">http://fbkarsdorp.github.io/python-course</a> is licensed under a <a rel=\"license\" href=\"http://creativecommons.org/licenses/by-sa/4.0/\">Creative Commons Attribution-ShareAlike 4.0 International License</a>. Based on a work at <a xmlns:dct=\"http://purl.org/dc/terms/\" href=\"https://github.com/fbkarsdorp/python-course\" rel=\"dct:source\">https://github.com/fbkarsdorp/python-course</a>.</small></p>"
   ]
  }
 ],
 "metadata": {
  "kernelspec": {
   "display_name": "Python 3",
   "language": "python",
   "name": "python3"
  },
  "language_info": {
   "codemirror_mode": {
    "name": "ipython",
    "version": 3
   },
   "file_extension": ".py",
   "mimetype": "text/x-python",
   "name": "python",
   "nbconvert_exporter": "python",
   "pygments_lexer": "ipython3",
   "version": "3.4.3"
  }
 },
 "nbformat": 4,
 "nbformat_minor": 0
}
