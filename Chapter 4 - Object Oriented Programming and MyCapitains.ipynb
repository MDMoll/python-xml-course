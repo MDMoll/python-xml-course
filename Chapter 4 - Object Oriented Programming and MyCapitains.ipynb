{
 "cells": [
  {
   "cell_type": "markdown",
   "metadata": {},
   "source": [
    "# Chapter 4: Object Oriented Programming and MyCapitains"
   ]
  },
  {
   "cell_type": "markdown",
   "metadata": {},
   "source": [
    "- \\*args and \\*\\*kwargs\n",
    "- \\_\\_init\\_\\_"
   ]
  },
  {
   "cell_type": "markdown",
   "metadata": {},
   "source": [
    "## 1. Introduction to Object Oriented Programming\n",
    "\n",
    "**OPP, or Object Oriented Programming**, is a way to write your code. OPP is about code architecture : you define objects that will have instances. For example, the Aeneid text would be an instance of an object Text. OPP is about data modelling : when you think about an object, you need to think \"OK, so now that I have all those text, what do they have in common ?\"\n",
    "\n",
    "For a Text, it's pretty simple : they have an author (even if it is anonymous), a title (most of the time), a date and a text body. Because texts don't float in the air, they have also an incarnation, which is probably realised through a specific method. To keep the example of the Aeneid, if we are talking about the edition available on Perseus, it has the following properties :\n",
    "\n",
    "- method would be \"digitized\"\n",
    "- text would the text\n",
    "- author would be \"Virgil\"\n",
    "- title would be \"Aeneid\"\n",
    "- age would be more or less 2000 years.\n",
    "\n",
    "What does it translate to in Python ?\n",
    "\n",
    "    Aeneid = Text(...) #\n",
    "    print(Aeneid.title) # would print \"Aeneid\"\n",
    "    print(Aeneid.author) # = \"Virgil\"\n",
    "    print(type(Aeneid)) # would print \"Text\"\n",
    "\n",
    "The good thing with objects, it's that the same object can have multiple instance. An **instance** is an emanation of an object, a version of it. Think about the object as a mold. When you are done with a mold, you create multiple object of the same shape which you can paint with different colors. That's called instances. Aeneid is an instance of Text. But you could also have the Ovid's Amores :\n",
    "\n",
    "\n",
    "    Amores = Text(...) #\n",
    "    print(Amores.title) # would print \"Amores\"\n",
    "    print(Amores.author) # = \"Ovid\"\n",
    "\n",
    "We have seen earliers in some chapters that one object had actually methods and properties (or attributes). **Properties** are value assigned to an object. It's accessible using a dot and the name of the property, such as `Aeneid.title`. **Methods** are function which are using all informations inside the object, *eg* Amores.read() would probably send back a result such as :\n",
    "\n",
    "    Amores, Ovid\n",
    "    text...\n",
    "    \n",
    "To continue with objects, those objects can have children. This mean it will inherit all functionnalities and properties of the parent, but on top of that, you will be able to specify some informations. For example, Text could have two children named Scroll and Book. Scroll would automatically have a method property set to \"Hand\" and a new method transcript(), while Book would have \"Printed\" and ocr().\n",
    "\n",
    "One last thing : Object is a general name and is often mistaken with `Class`. Every object have a `class` : it is the blueprint of the object. To some extend, if object is a mold, the blueprint is the plan required to build to mold. They are so bound to each other that most people mistake them for each others. The `class` for text would be responsible for example for the presence of properties and methods. "
   ]
  },
  {
   "cell_type": "markdown",
   "metadata": {},
   "source": [
    "![Classes and subclasses](images/Class.svg)"
   ]
  },
  {
   "cell_type": "markdown",
   "metadata": {},
   "source": [
    "## 2\\. Object in Python : class and \\_\\_init\\_\\_"
   ]
  },
  {
   "cell_type": "markdown",
   "metadata": {},
   "source": [
    "## 3\\. Inheritance, \\*args and \\*\\*kwargs"
   ]
  },
  {
   "cell_type": "markdown",
   "metadata": {},
   "source": [
    "## 4\\. Some practical functions"
   ]
  },
  {
   "cell_type": "markdown",
   "metadata": {},
   "source": [
    "##5\\. Use case : MyCapytain.resources.proto.text.Passage and Text"
   ]
  },
  {
   "cell_type": "markdown",
   "metadata": {},
   "source": [
    "## Going further\n"
   ]
  },
  {
   "cell_type": "markdown",
   "metadata": {},
   "source": [
    "##Exercises :"
   ]
  },
  {
   "cell_type": "markdown",
   "metadata": {},
   "source": [
    "**1\\.** Transform the diagram explaining object into Python. Function read should return the text, quote should take 2 integers which would return the passage of a text. Do not take care of preserve(), transcript(), and ocr()."
   ]
  },
  {
   "cell_type": "code",
   "execution_count": 1,
   "metadata": {
    "collapsed": true
   },
   "outputs": [],
   "source": [
    "# Write your code here"
   ]
  },
  {
   "cell_type": "markdown",
   "metadata": {},
   "source": [
    "**2\\.** Create a class having a property x and y named \"Point\". When one would print it, it would show \"(x,y)\" and one Point would be bigger than the other if it has both x and y higher than the other."
   ]
  },
  {
   "cell_type": "markdown",
   "metadata": {},
   "source": [
    "-----"
   ]
  },
  {
   "cell_type": "code",
   "execution_count": 19,
   "metadata": {
    "collapsed": false
   },
   "outputs": [
    {
     "data": {
      "text/html": [
       "<style>\n",
       "    @font-face {\n",
       "        font-family: \"Computer Modern\";\n",
       "        src: url('http://mirrors.ctan.org/fonts/cm-unicode/fonts/otf/cmunss.otf');\n",
       "    }\n",
       "    div.cell {\n",
       "        width:800px;\n",
       "        margin-left:auto;\n",
       "        margin-right:auto;\n",
       "    }\n",
       "    div.cell, .input.hbox {\n",
       "    display:block;\n",
       "}\n",
       "    h1 {\n",
       "        font-family: \"Charis SIL\", Palatino, serif;\n",
       "    }\n",
       "    h4{\n",
       "        margin-top:12px;\n",
       "        margin-bottom: 3px;\n",
       "       }\n",
       "    div.text_cell_render{\n",
       "        font-family: Computer Modern, \"Helvetica Neue\", Arial, Helvetica, Geneva, sans-serif;\n",
       "        line-height: 145%;\n",
       "        font-size: 120%;\n",
       "        width:800px;\n",
       "        margin-left:auto;\n",
       "        margin-right:auto;\n",
       "    }\n",
       "    .CodeMirror{\n",
       "            font-family: \"Source Code Pro\", source-code-pro,Consolas, monospace;\n",
       "    }\n",
       "    .prompt{\n",
       "        display: None;\n",
       "    }\n",
       "    .text_cell_render h5 {\n",
       "        font-weight: 300;\n",
       "        font-size: 16pt;\n",
       "        color: #4057A1;\n",
       "        font-style: italic;\n",
       "        margin-bottom: .5em;\n",
       "        margin-top: 0.5em;\n",
       "        display: block;\n",
       "    }\n",
       "    \n",
       "    .warning{\n",
       "        color: rgb( 240, 20, 20 )\n",
       "        }\n",
       "\n",
       "    blockquote {\n",
       "    border-left: 4px solid #DDDDDD;\n",
       "    color: #777777;\n",
       "        padding: 0 15px;\n",
       "        }\n",
       "\n",
       "</style>\n",
       "<script>\n",
       "    MathJax.Hub.Config({\n",
       "                        TeX: {\n",
       "                           extensions: [\"AMSmath.js\"]\n",
       "                           },\n",
       "                tex2jax: {\n",
       "                    inlineMath: [ ['$','$'], [\"\\\\(\",\"\\\\)\"] ],\n",
       "                    displayMath: [ ['$$','$$'], [\"\\\\[\",\"\\\\]\"] ]\n",
       "                },\n",
       "                displayAlign: 'center', // Change this to 'center' to center equations.\n",
       "                \"HTML-CSS\": {\n",
       "                    styles: {'.MathJax_Display': {\"margin\": 4}}\n",
       "                }\n",
       "        });\n",
       "</script>"
      ],
      "text/plain": [
       "<IPython.core.display.HTML object>"
      ]
     },
     "execution_count": 19,
     "metadata": {},
     "output_type": "execute_result"
    }
   ],
   "source": [
    "# Do not care about this cell, it's just here to make the page nicer.\n",
    "\n",
    "from IPython.core.display import HTML\n",
    "def css_styling():\n",
    "    styles = open(\"styles/custom.css\", \"r\").read()\n",
    "    return HTML(styles)\n",
    "css_styling()"
   ]
  },
  {
   "cell_type": "markdown",
   "metadata": {},
   "source": [
    "---"
   ]
  },
  {
   "cell_type": "markdown",
   "metadata": {},
   "source": [
    "<p><small><a rel=\"license\" href=\"http://creativecommons.org/licenses/by-sa/4.0/\"><img alt=\"Creative Commons License\" style=\"border-width:0\" src=\"https://i.creativecommons.org/l/by-sa/4.0/88x31.png\" /></a><br /><span xmlns:dct=\"http://purl.org/dc/terms/\" property=\"dct:title\">Python Programming for the Humanities</span> by <a xmlns:cc=\"http://creativecommons.org/ns#\" href=\"http://fbkarsdorp.github.io/python-course\" property=\"cc:attributionName\" rel=\"cc:attributionURL\">http://fbkarsdorp.github.io/python-course</a> is licensed under a <a rel=\"license\" href=\"http://creativecommons.org/licenses/by-sa/4.0/\">Creative Commons Attribution-ShareAlike 4.0 International License</a>. Based on a work at <a xmlns:dct=\"http://purl.org/dc/terms/\" href=\"https://github.com/fbkarsdorp/python-course\" rel=\"dct:source\">https://github.com/fbkarsdorp/python-course</a>.</small></p>"
   ]
  }
 ],
 "metadata": {
  "kernelspec": {
   "display_name": "Python 3",
   "language": "python",
   "name": "python3"
  },
  "language_info": {
   "codemirror_mode": {
    "name": "ipython",
    "version": 3
   },
   "file_extension": ".py",
   "mimetype": "text/x-python",
   "name": "python",
   "nbconvert_exporter": "python",
   "pygments_lexer": "ipython3",
   "version": "3.4.3"
  }
 },
 "nbformat": 4,
 "nbformat_minor": 0
}
