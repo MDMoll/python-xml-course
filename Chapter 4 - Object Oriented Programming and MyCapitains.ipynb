{
 "cells": [
  {
   "cell_type": "markdown",
   "metadata": {},
   "source": [
    "# Chapter 4: Object Oriented Programming and MyCapitains"
   ]
  },
  {
   "cell_type": "markdown",
   "metadata": {},
   "source": [
    "---"
   ]
  },
  {
   "cell_type": "markdown",
   "metadata": {},
   "source": [
    "## 1. Introduction to Object Oriented Programming\n",
    "\n",
    "**OPP, or Object Oriented Programming**, is a way to write your code. OPP is about code architecture : you define objects that will have instances. For example, the Aeneid text would be an instance of an object Text. OPP is about data modelling : when you think about an object, you need to think \"OK, so now that I have all those text, what do they have in common ?\"\n",
    "\n",
    "For a Text, it's pretty simple : they have an author (even if it is anonymous), a title (most of the time), a date and a text body. Because texts don't float in the air, they have also an incarnation, which is probably realised through a specific method. To keep the example of the Aeneid, if we are talking about the edition available on Perseus, it has the following properties :\n",
    "\n",
    "- method would be \"digitized\"\n",
    "- text would the text\n",
    "- author would be \"Virgil\"\n",
    "- title would be \"Aeneid\"\n",
    "- age would be more or less 2000 years.\n",
    "\n",
    "What does it translate to in Python ?\n",
    "\n",
    "    Aeneid = Text(...) #\n",
    "    print(Aeneid.title) # would print \"Aeneid\"\n",
    "    print(Aeneid.author) # = \"Virgil\"\n",
    "    print(type(Aeneid)) # would print \"Text\"\n",
    "\n",
    "The good thing with objects, it's that the same object can have multiple instance. An **instance** is an emanation of an object, a version of it. Think about the object as a mold. When you are done with a mold, you create multiple object of the same shape which you can paint with different colors. That's called instances. Aeneid is an instance of Text. But you could also have the Ovid's Amores :\n",
    "\n",
    "\n",
    "    Amores = Text(...) #\n",
    "    print(Amores.title) # would print \"Amores\"\n",
    "    print(Amores.author) # = \"Ovid\"\n",
    "\n",
    "We have seen earliers in some chapters that one object had actually methods and properties (or attributes). **Properties** are value assigned to an object. It's accessible using a dot and the name of the property, such as `Aeneid.title`. **Methods** are function which are using all informations inside the object, *eg* Amores.read() would probably send back a result such as :\n",
    "\n",
    "    Amores, Ovid\n",
    "    text...\n",
    "    \n",
    "To continue with objects, those objects can have children. This mean it will inherit all functionnalities and properties of the parent, but on top of that, you will be able to specify some informations. For example, Text could have two children named Scroll and Book. Scroll would automatically have a method property set to \"Hand\" and a new method transcript(), while Book would have \"Printed\" and ocr().\n",
    "\n",
    "One last thing : Object is a general name and is often mistaken with `Class`. Every object have a `class` : it is the blueprint of the object. To some extend, if object is a mold, the blueprint is the plan required to build to mold. They are so bound to each other that most people mistake them for each others. The `class` for text would be responsible for example for the presence of properties and methods. "
   ]
  },
  {
   "cell_type": "markdown",
   "metadata": {},
   "source": [
    "![Classes and subclasses](images/Class.svg)"
   ]
  },
  {
   "cell_type": "markdown",
   "metadata": {},
   "source": [
    "## 2\\. Object in Python : class and \\_\\_init\\_\\_\n",
    "\n",
    "To define an object in Python, you will need do use the syntax `class NAME(object):` and give it something, such as a method. This is the lowest requirement (Mind the tabs !):"
   ]
  },
  {
   "cell_type": "code",
   "execution_count": null,
   "metadata": {
    "collapsed": true
   },
   "outputs": [],
   "source": [
    "class Animal(object):\n",
    "    def shout(self):\n",
    "        print(\"\")"
   ]
  },
  {
   "cell_type": "markdown",
   "metadata": {},
   "source": [
    "The class Animal in this case has a shout property. Did you see `self` ? Objects' methods must have it : it refers to the instance itself. If Animal had a `.noise` property, `shout()` could use it like that :"
   ]
  },
  {
   "cell_type": "code",
   "execution_count": null,
   "metadata": {
    "collapsed": true
   },
   "outputs": [],
   "source": [
    "class Animal(object):\n",
    "    def shout(self):\n",
    "        print(self.noise)"
   ]
  },
  {
   "cell_type": "markdown",
   "metadata": {},
   "source": [
    "Now, if we'd like to create an Animal object, like Pluto the dog, we'd initiate the instance this way :"
   ]
  },
  {
   "cell_type": "code",
   "execution_count": null,
   "metadata": {
    "collapsed": true
   },
   "outputs": [],
   "source": [
    "Pluto = Animal()"
   ]
  },
  {
   "cell_type": "markdown",
   "metadata": {},
   "source": [
    "And we could call the method shout this way :"
   ]
  },
  {
   "cell_type": "code",
   "execution_count": null,
   "metadata": {
    "collapsed": false
   },
   "outputs": [],
   "source": [
    "Pluto.shout()"
   ]
  },
  {
   "cell_type": "markdown",
   "metadata": {},
   "source": [
    "Damn, AttributeError. Of course ! We did not define our attribute \"noise\" anywhere ! But how do you define properties ? You have to define a \\_\\_init\\_\\_ function which will allow to give an instance an initializing phase. To do so, you would simply do so :"
   ]
  },
  {
   "cell_type": "code",
   "execution_count": null,
   "metadata": {
    "collapsed": false
   },
   "outputs": [],
   "source": [
    "class Animal(object):\n",
    "    def __init__(self):\n",
    "        self.noise = \"Wahwah\"\n",
    "    def shout(self):\n",
    "        print(self.noise)\n",
    "\n",
    "Pluto = Animal()\n",
    "Pluto.shout()"
   ]
  },
  {
   "cell_type": "markdown",
   "metadata": {},
   "source": [
    "It definitely works better. But not all animals shout the same things. To avoid this issue, just remember that \\_\\_init\\_\\_ works just like any other function and can take arguments !"
   ]
  },
  {
   "cell_type": "code",
   "execution_count": null,
   "metadata": {
    "collapsed": false
   },
   "outputs": [],
   "source": [
    "class Animal(object):\n",
    "    def __init__(self, name, noise=\"\"):\n",
    "        self.noise = noise\n",
    "        self.name  = name\n",
    "    def shout(self):\n",
    "        print(self.noise)\n",
    "\n",
    "Pluto = Animal(\"Pluto\", \"WahWah\")\n",
    "Pluto.shout()\n",
    "print(Pluto.name)"
   ]
  },
  {
   "cell_type": "markdown",
   "metadata": {},
   "source": [
    "** DIY ** \n",
    "\n",
    "Define a class Vehicle with a property wheels for the number of wheels, a property \"passengers\" for the number of maximal passengers. Create a method `enter(number)` where number represents how many passenger want to use the vehicle : this method should return False if there is too many people ! Create two instances named `car` and `moto` and run the code in the second block !"
   ]
  },
  {
   "cell_type": "code",
   "execution_count": null,
   "metadata": {
    "collapsed": true
   },
   "outputs": [],
   "source": [
    "# Write your class here\n",
    "\n",
    "# Create your instances here"
   ]
  },
  {
   "cell_type": "code",
   "execution_count": null,
   "metadata": {
    "collapsed": false
   },
   "outputs": [],
   "source": [
    "#Run it to check it works \n",
    "\n",
    "if car.enter(2) is True:\n",
    "    print(\"We can use the car with two peoples\")\n",
    "if moto.enter(3) is True:\n",
    "    print(\" WHAT IS YOUR MOTO BRAND ?\") # Side-car does not count."
   ]
  },
  {
   "cell_type": "markdown",
   "metadata": {},
   "source": [
    "## 3\\. Inheritance, \\*args and \\*\\*kwargs"
   ]
  },
  {
   "cell_type": "markdown",
   "metadata": {},
   "source": [
    "## 4\\. Some practical functions"
   ]
  },
  {
   "cell_type": "markdown",
   "metadata": {},
   "source": [
    "##5\\. Use case : MyCapytain.resources.proto.text.Passage and Text"
   ]
  },
  {
   "cell_type": "markdown",
   "metadata": {},
   "source": [
    "## Going further\n"
   ]
  },
  {
   "cell_type": "markdown",
   "metadata": {},
   "source": [
    "##Exercises :"
   ]
  },
  {
   "cell_type": "markdown",
   "metadata": {},
   "source": [
    "**1\\.** Transform the diagram explaining object into Python. Function read should return the text, quote should take 2 integers which would return the passage of a text. Do not take care of preserve(), transcript(), and ocr()."
   ]
  },
  {
   "cell_type": "code",
   "execution_count": null,
   "metadata": {
    "collapsed": true
   },
   "outputs": [],
   "source": [
    "# Write your code here"
   ]
  },
  {
   "cell_type": "markdown",
   "metadata": {},
   "source": [
    "**2\\.** Create a class having a property x and y named \"Point\". When one would print it, it would show \"(x,y)\" and one Point would be bigger than the other if it has both x and y higher than the other."
   ]
  },
  {
   "cell_type": "markdown",
   "metadata": {},
   "source": [
    "-----"
   ]
  },
  {
   "cell_type": "code",
   "execution_count": null,
   "metadata": {
    "collapsed": false
   },
   "outputs": [],
   "source": [
    "# Do not care about this cell, it's just here to make the page nicer.\n",
    "\n",
    "from IPython.core.display import HTML\n",
    "def css_styling():\n",
    "    styles = open(\"styles/custom.css\", \"r\").read()\n",
    "    return HTML(styles)\n",
    "css_styling()"
   ]
  },
  {
   "cell_type": "markdown",
   "metadata": {},
   "source": [
    "---"
   ]
  },
  {
   "cell_type": "markdown",
   "metadata": {},
   "source": [
    "<p><small><a rel=\"license\" href=\"http://creativecommons.org/licenses/by-sa/4.0/\"><img alt=\"Creative Commons License\" style=\"border-width:0\" src=\"https://i.creativecommons.org/l/by-sa/4.0/88x31.png\" /></a><br /><span xmlns:dct=\"http://purl.org/dc/terms/\" property=\"dct:title\">Python Programming for the Humanities</span> by <a xmlns:cc=\"http://creativecommons.org/ns#\" href=\"http://fbkarsdorp.github.io/python-course\" property=\"cc:attributionName\" rel=\"cc:attributionURL\">http://fbkarsdorp.github.io/python-course</a> is licensed under a <a rel=\"license\" href=\"http://creativecommons.org/licenses/by-sa/4.0/\">Creative Commons Attribution-ShareAlike 4.0 International License</a>. Based on a work at <a xmlns:dct=\"http://purl.org/dc/terms/\" href=\"https://github.com/fbkarsdorp/python-course\" rel=\"dct:source\">https://github.com/fbkarsdorp/python-course</a>.</small></p>"
   ]
  }
 ],
 "metadata": {
  "kernelspec": {
   "display_name": "Python 3",
   "language": "python",
   "name": "python3"
  },
  "language_info": {
   "codemirror_mode": {
    "name": "ipython",
    "version": 3
   },
   "file_extension": ".py",
   "mimetype": "text/x-python",
   "name": "python",
   "nbconvert_exporter": "python",
   "pygments_lexer": "ipython3",
   "version": "3.4.3"
  }
 },
 "nbformat": 4,
 "nbformat_minor": 0
}
